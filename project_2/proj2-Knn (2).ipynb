{
 "cells": [
  {
   "cell_type": "markdown",
   "metadata": {
    "colab_type": "text",
    "id": "view-in-github"
   },
   "source": [
    "<a href=\"https://colab.research.google.com/github/Ymy9he/group23/blob/main/finalproject.ipynb\" target=\"_parent\"><img src=\"https://colab.research.google.com/assets/colab-badge.svg\" alt=\"Open In Colab\"/></a>"
   ]
  },
  {
   "cell_type": "code",
   "execution_count": 276,
   "metadata": {
    "id": "gIDO7jNJJMfq"
   },
   "outputs": [],
   "source": [
    "import pandas as pd\n",
    "from sklearn.model_selection import train_test_split\n",
    "from sklearn.preprocessing import StandardScaler, OneHotEncoder\n",
    "from sklearn.neighbors import KNeighborsClassifier\n",
    "from sklearn.metrics import classification_report, confusion_matrix, accuracy_score\n",
    "from sklearn.impute import SimpleImputer\n",
    "from sklearn.ensemble import RandomForestClassifier, GradientBoostingClassifier\n",
    "from sklearn.utils import resample\n",
    "import seaborn as sns\n"
   ]
  },
  {
   "cell_type": "code",
   "execution_count": 277,
   "metadata": {
    "id": "HHVI3DiHQWkB"
   },
   "outputs": [],
   "source": [
    "# read in the data\n",
    "#df_train =pd.read_csv('/content/training_data.csv.crdownload')\n",
    "#df_test =pd.read_csv('/content/testing_data.csv.crdownload')\n",
    "\n",
    "\n",
    "#https://stackoverflow.com/questions/55240330/how-to-read-csv-file-from-github-using-pandas\n",
    "\n",
    "url_test = 'https://raw.githubusercontent.com/DS3001/group23/main/project_2/data/testing_data.csv'\n",
    "url_train = 'https://raw.githubusercontent.com/DS3001/group23/main/project_2/data/training_data.csv'\n",
    "\n",
    "df_test = pd.read_csv(url_test, index_col=0)\n",
    "df_train = pd.read_csv(url_train, index_col=0)\n",
    "\n",
    "df_train = df_train.reset_index(drop=True)\n",
    "df_test = df_test.reset_index(drop=True)\n"
   ]
  },
  {
   "cell_type": "code",
   "execution_count": 278,
   "metadata": {},
   "outputs": [
    {
     "data": {
      "text/html": [
       "<div>\n",
       "<style scoped>\n",
       "    .dataframe tbody tr th:only-of-type {\n",
       "        vertical-align: middle;\n",
       "    }\n",
       "\n",
       "    .dataframe tbody tr th {\n",
       "        vertical-align: top;\n",
       "    }\n",
       "\n",
       "    .dataframe thead th {\n",
       "        text-align: right;\n",
       "    }\n",
       "</style>\n",
       "<table border=\"1\" class=\"dataframe\">\n",
       "  <thead>\n",
       "    <tr style=\"text-align: right;\">\n",
       "      <th></th>\n",
       "      <th>id</th>\n",
       "      <th>gender</th>\n",
       "      <th>age</th>\n",
       "      <th>hypertension</th>\n",
       "      <th>heart_disease</th>\n",
       "      <th>ever_married</th>\n",
       "      <th>work_type</th>\n",
       "      <th>Residence_type</th>\n",
       "      <th>avg_glucose_level</th>\n",
       "      <th>bmi</th>\n",
       "      <th>smoking_status</th>\n",
       "      <th>stroke</th>\n",
       "    </tr>\n",
       "  </thead>\n",
       "  <tbody>\n",
       "    <tr>\n",
       "      <th>0</th>\n",
       "      <td>68685</td>\n",
       "      <td>Male</td>\n",
       "      <td>36.0</td>\n",
       "      <td>0</td>\n",
       "      <td>0</td>\n",
       "      <td>Yes</td>\n",
       "      <td>Govt_job</td>\n",
       "      <td>Urban</td>\n",
       "      <td>65.87</td>\n",
       "      <td>32.2</td>\n",
       "      <td>formerly smoked</td>\n",
       "      <td>0</td>\n",
       "    </tr>\n",
       "    <tr>\n",
       "      <th>1</th>\n",
       "      <td>59058</td>\n",
       "      <td>Female</td>\n",
       "      <td>45.0</td>\n",
       "      <td>0</td>\n",
       "      <td>0</td>\n",
       "      <td>Yes</td>\n",
       "      <td>Govt_job</td>\n",
       "      <td>Rural</td>\n",
       "      <td>68.66</td>\n",
       "      <td>25.3</td>\n",
       "      <td>never smoked</td>\n",
       "      <td>0</td>\n",
       "    </tr>\n",
       "    <tr>\n",
       "      <th>2</th>\n",
       "      <td>46068</td>\n",
       "      <td>Male</td>\n",
       "      <td>58.0</td>\n",
       "      <td>0</td>\n",
       "      <td>0</td>\n",
       "      <td>No</td>\n",
       "      <td>Self-employed</td>\n",
       "      <td>Rural</td>\n",
       "      <td>170.93</td>\n",
       "      <td>30.7</td>\n",
       "      <td>Unknown</td>\n",
       "      <td>0</td>\n",
       "    </tr>\n",
       "    <tr>\n",
       "      <th>3</th>\n",
       "      <td>36837</td>\n",
       "      <td>Female</td>\n",
       "      <td>61.0</td>\n",
       "      <td>0</td>\n",
       "      <td>0</td>\n",
       "      <td>Yes</td>\n",
       "      <td>Self-employed</td>\n",
       "      <td>Urban</td>\n",
       "      <td>69.88</td>\n",
       "      <td>27.1</td>\n",
       "      <td>never smoked</td>\n",
       "      <td>0</td>\n",
       "    </tr>\n",
       "    <tr>\n",
       "      <th>4</th>\n",
       "      <td>30550</td>\n",
       "      <td>Female</td>\n",
       "      <td>78.0</td>\n",
       "      <td>0</td>\n",
       "      <td>0</td>\n",
       "      <td>No</td>\n",
       "      <td>Private</td>\n",
       "      <td>Urban</td>\n",
       "      <td>103.86</td>\n",
       "      <td>30.6</td>\n",
       "      <td>Unknown</td>\n",
       "      <td>0</td>\n",
       "    </tr>\n",
       "  </tbody>\n",
       "</table>\n",
       "</div>"
      ],
      "text/plain": [
       "      id  gender   age  hypertension  heart_disease ever_married  \\\n",
       "0  68685    Male  36.0             0              0          Yes   \n",
       "1  59058  Female  45.0             0              0          Yes   \n",
       "2  46068    Male  58.0             0              0           No   \n",
       "3  36837  Female  61.0             0              0          Yes   \n",
       "4  30550  Female  78.0             0              0           No   \n",
       "\n",
       "       work_type Residence_type  avg_glucose_level   bmi   smoking_status  \\\n",
       "0       Govt_job          Urban              65.87  32.2  formerly smoked   \n",
       "1       Govt_job          Rural              68.66  25.3     never smoked   \n",
       "2  Self-employed          Rural             170.93  30.7          Unknown   \n",
       "3  Self-employed          Urban              69.88  27.1     never smoked   \n",
       "4        Private          Urban             103.86  30.6          Unknown   \n",
       "\n",
       "   stroke  \n",
       "0       0  \n",
       "1       0  \n",
       "2       0  \n",
       "3       0  \n",
       "4       0  "
      ]
     },
     "execution_count": 278,
     "metadata": {},
     "output_type": "execute_result"
    }
   ],
   "source": [
    "df_test.head()\n",
    "df_train.head()\n"
   ]
  },
  {
   "cell_type": "code",
   "execution_count": 279,
   "metadata": {},
   "outputs": [
    {
     "name": "stdout",
     "output_type": "stream",
     "text": [
      "['id', 'gender', 'age', 'hypertension', 'heart_disease', 'ever_married', 'work_type', 'Residence_type', 'avg_glucose_level', 'bmi', 'smoking_status', 'stroke']\n",
      "['id', 'gender', 'age', 'hypertension', 'heart_disease', 'ever_married', 'work_type', 'Residence_type', 'avg_glucose_level', 'bmi', 'smoking_status', 'stroke']\n"
     ]
    }
   ],
   "source": [
    "unique_columns = df_train.columns.tolist()\n",
    "print(unique_columns)\n",
    "unique_columns2 = df_test.columns.tolist()\n",
    "print(unique_columns2)"
   ]
  },
  {
   "cell_type": "code",
   "execution_count": 280,
   "metadata": {},
   "outputs": [
    {
     "data": {
      "text/plain": [
       "<AxesSubplot:>"
      ]
     },
     "execution_count": 280,
     "metadata": {},
     "output_type": "execute_result"
    },
    {
     "data": {
      "image/png": "[encoded data removed]",
      "text/plain": [
       "<Figure size 432x288 with 1 Axes>"
      ]
     },
     "metadata": {
      "needs_background": "light"
     },
     "output_type": "display_data"
    }
   ],
   "source": [
    "df_train.plot.box()\n"
   ]
  },
  {
   "cell_type": "code",
   "execution_count": 281,
   "metadata": {},
   "outputs": [
    {
     "data": {
      "image/png": "[encoded data removed]",
      "text/plain": [
       "<Figure size 432x288 with 1 Axes>"
      ]
     },
     "metadata": {
      "needs_background": "light"
     },
     "output_type": "display_data"
    }
   ],
   "source": [
    "import matplotlib.pyplot as plt\n",
    "import seaborn as sns\n",
    "\n",
    "df_train = df_train.drop('id', axis=1)\n",
    "\n",
    "ax = sns.boxplot(data=df_train)\n",
    "ax.set_xticklabels(ax.get_xticklabels(), rotation=45)  # Rotate x-axis labels\n",
    "\n",
    "plt.show()  # Show the boxplot\n",
    "# avg glucose has a lot of outliers, so does bmi "
   ]
  },
  {
   "cell_type": "code",
   "execution_count": 282,
   "metadata": {},
   "outputs": [
    {
     "data": {
      "text/plain": [
       "<AxesSubplot:>"
      ]
     },
     "execution_count": 282,
     "metadata": {},
     "output_type": "execute_result"
    },
    {
     "data": {
      "image/png": "[encoded data removed]",
      "text/plain": [
       "<Figure size 432x288 with 1 Axes>"
      ]
     },
     "metadata": {
      "needs_background": "light"
     },
     "output_type": "display_data"
    }
   ],
   "source": [
    "df_test.plot.box()\n"
   ]
  },
  {
   "cell_type": "code",
   "execution_count": 283,
   "metadata": {},
   "outputs": [
    {
     "data": {
      "image/png": "[encoded data removed]",
      "text/plain": [
       "<Figure size 432x288 with 1 Axes>"
      ]
     },
     "metadata": {
      "needs_background": "light"
     },
     "output_type": "display_data"
    }
   ],
   "source": [
    "import matplotlib.pyplot as plt\n",
    "import seaborn as sns\n",
    "\n",
    "df_test = df_test.drop('id', axis=1)\n",
    "\n",
    "ax = sns.boxplot(data=df_test)\n",
    "ax.set_xticklabels(ax.get_xticklabels(), rotation=45)  # Rotate x-axis labels\n",
    "\n",
    "plt.show()  # Show the boxplot\n",
    "# avg glucose has a lot of outliers, so does bmi "
   ]
  },
  {
   "cell_type": "code",
   "execution_count": 284,
   "metadata": {},
   "outputs": [
    {
     "name": "stdout",
     "output_type": "stream",
     "text": [
      "Missing Values:\n",
      "gender                 0\n",
      "age                    0\n",
      "hypertension           0\n",
      "heart_disease          0\n",
      "ever_married           0\n",
      "work_type              0\n",
      "Residence_type         0\n",
      "avg_glucose_level      0\n",
      "bmi                  159\n",
      "smoking_status         0\n",
      "stroke                 0\n",
      "dtype: int64\n"
     ]
    }
   ],
   "source": [
    "missing_values = df_train.isnull().sum()\n",
    "print(\"Missing Values:\")\n",
    "print(missing_values) # 159\n"
   ]
  },
  {
   "cell_type": "code",
   "execution_count": 285,
   "metadata": {},
   "outputs": [
    {
     "name": "stdout",
     "output_type": "stream",
     "text": [
      "Missing Values:\n",
      "gender                0\n",
      "age                   0\n",
      "hypertension          0\n",
      "heart_disease         0\n",
      "ever_married          0\n",
      "work_type             0\n",
      "Residence_type        0\n",
      "avg_glucose_level     0\n",
      "bmi                  42\n",
      "smoking_status        0\n",
      "stroke                0\n",
      "dtype: int64\n"
     ]
    }
   ],
   "source": [
    "missing_values = df_test.isnull().sum()\n",
    "print(\"Missing Values:\")\n",
    "print(missing_values) # 42"
   ]
  },
  {
   "cell_type": "code",
   "execution_count": 286,
   "metadata": {},
   "outputs": [],
   "source": [
    "df_train['bmi'].fillna(df_train['bmi'].mean(), inplace=True)\n",
    "df_test['bmi'].fillna(df_test['bmi'].mean(), inplace=True)"
   ]
  },
  {
   "cell_type": "code",
   "execution_count": 287,
   "metadata": {
    "colab": {
     "base_uri": "https://localhost:8080/"
    },
    "id": "JXYip7juK1lL",
    "outputId": "1a110621-a90c-4361-9002-10bd7b2afa3f"
   },
   "outputs": [
    {
     "data": {
      "text/plain": [
       "gender               0\n",
       "age                  0\n",
       "hypertension         0\n",
       "heart_disease        0\n",
       "ever_married         0\n",
       "work_type            0\n",
       "Residence_type       0\n",
       "avg_glucose_level    0\n",
       "bmi                  0\n",
       "smoking_status       0\n",
       "stroke               0\n",
       "dtype: int64"
      ]
     },
     "execution_count": 287,
     "metadata": {},
     "output_type": "execute_result"
    }
   ],
   "source": [
    "df_train.isnull().sum() # No more NA Values\n",
    "df_test.isnull().sum() # No more NA Values"
   ]
  },
  {
   "cell_type": "code",
   "execution_count": 288,
   "metadata": {},
   "outputs": [
    {
     "data": {
      "image/png": "[encoded data removed]",
      "text/plain": [
       "<Figure size 432x288 with 1 Axes>"
      ]
     },
     "metadata": {
      "needs_background": "light"
     },
     "output_type": "display_data"
    }
   ],
   "source": [
    "# Create box plots for avg_glucose_level\n",
    "sns.boxplot(x=df_train['avg_glucose_level'])\n",
    "plt.title('Boxplot of avg_glucose_level')\n",
    "plt.show()"
   ]
  },
  {
   "cell_type": "code",
   "execution_count": 289,
   "metadata": {},
   "outputs": [
    {
     "name": "stderr",
     "output_type": "stream",
     "text": [
      "<ipython-input-289-a095c8565a5f>:14: SettingWithCopyWarning: \n",
      "A value is trying to be set on a copy of a slice from a DataFrame\n",
      "\n",
      "See the caveats in the documentation: https://pandas.pydata.org/pandas-docs/stable/user_guide/indexing.html#returning-a-view-versus-a-copy\n",
      "  x_windsor[ x < lower_whisker ] = lower_whisker\n",
      "<ipython-input-289-a095c8565a5f>:15: SettingWithCopyWarning: \n",
      "A value is trying to be set on a copy of a slice from a DataFrame\n",
      "\n",
      "See the caveats in the documentation: https://pandas.pydata.org/pandas-docs/stable/user_guide/indexing.html#returning-a-view-versus-a-copy\n",
      "  x_windsor[ x > upper_whisker ] = upper_whisker\n"
     ]
    }
   ],
   "source": [
    "#df_train['avg_glucose_level'] = np.log1p(df_train['avg_glucose_level']) # didnt work\n",
    "import numpy as np\n",
    "\n",
    "## Function to compute whiskers:\n",
    "def windsorize(x): # top of model_evaulation notes\n",
    "    # Compute IQR and 1st,3rd quantiles\n",
    "    pct25, pct75 = np.percentile(x,[25,75])\n",
    "    iqr = pct75 - pct25\n",
    "    # Compute whiskers:\n",
    "    lower_whisker = pct25 - iqr*1.5\n",
    "    upper_whisker = pct75 + iqr*1.5\n",
    "    # Windsorize x:\n",
    "    x_windsor = x\n",
    "    x_windsor[ x < lower_whisker ] = lower_whisker\n",
    "    x_windsor[ x > upper_whisker ] = upper_whisker\n",
    "    return(x_windsor)\n",
    "\n",
    "df_train['avg_glucose_level'] = windsorize(df_train['avg_glucose_level'])\n"
   ]
  },
  {
   "cell_type": "code",
   "execution_count": 290,
   "metadata": {},
   "outputs": [
    {
     "data": {
      "image/png": "[encoded data removed]",
      "text/plain": [
       "<Figure size 432x288 with 1 Axes>"
      ]
     },
     "metadata": {
      "needs_background": "light"
     },
     "output_type": "display_data"
    }
   ],
   "source": [
    "sns.boxplot(x=df_train['avg_glucose_level'])\n",
    "plt.title('Boxplot of avg_glucose_level')\n",
    "plt.show()"
   ]
  },
  {
   "cell_type": "code",
   "execution_count": 291,
   "metadata": {},
   "outputs": [
    {
     "name": "stderr",
     "output_type": "stream",
     "text": [
      "<ipython-input-289-a095c8565a5f>:14: SettingWithCopyWarning: \n",
      "A value is trying to be set on a copy of a slice from a DataFrame\n",
      "\n",
      "See the caveats in the documentation: https://pandas.pydata.org/pandas-docs/stable/user_guide/indexing.html#returning-a-view-versus-a-copy\n",
      "  x_windsor[ x < lower_whisker ] = lower_whisker\n",
      "<ipython-input-289-a095c8565a5f>:15: SettingWithCopyWarning: \n",
      "A value is trying to be set on a copy of a slice from a DataFrame\n",
      "\n",
      "See the caveats in the documentation: https://pandas.pydata.org/pandas-docs/stable/user_guide/indexing.html#returning-a-view-versus-a-copy\n",
      "  x_windsor[ x > upper_whisker ] = upper_whisker\n"
     ]
    }
   ],
   "source": [
    "df_test['avg_glucose_level'] = windsorize(df_test['avg_glucose_level'])\n"
   ]
  },
  {
   "cell_type": "code",
   "execution_count": 292,
   "metadata": {},
   "outputs": [
    {
     "data": {
      "image/png": "[encoded data removed]",
      "text/plain": [
       "<Figure size 432x288 with 1 Axes>"
      ]
     },
     "metadata": {
      "needs_background": "light"
     },
     "output_type": "display_data"
    }
   ],
   "source": [
    "sns.boxplot(x=df_train['bmi'])\n",
    "plt.title('Boxplot of bmi')\n",
    "plt.show()"
   ]
  },
  {
   "cell_type": "code",
   "execution_count": 293,
   "metadata": {},
   "outputs": [
    {
     "name": "stderr",
     "output_type": "stream",
     "text": [
      "<ipython-input-289-a095c8565a5f>:14: SettingWithCopyWarning: \n",
      "A value is trying to be set on a copy of a slice from a DataFrame\n",
      "\n",
      "See the caveats in the documentation: https://pandas.pydata.org/pandas-docs/stable/user_guide/indexing.html#returning-a-view-versus-a-copy\n",
      "  x_windsor[ x < lower_whisker ] = lower_whisker\n",
      "<ipython-input-289-a095c8565a5f>:15: SettingWithCopyWarning: \n",
      "A value is trying to be set on a copy of a slice from a DataFrame\n",
      "\n",
      "See the caveats in the documentation: https://pandas.pydata.org/pandas-docs/stable/user_guide/indexing.html#returning-a-view-versus-a-copy\n",
      "  x_windsor[ x > upper_whisker ] = upper_whisker\n",
      "<ipython-input-289-a095c8565a5f>:14: SettingWithCopyWarning: \n",
      "A value is trying to be set on a copy of a slice from a DataFrame\n",
      "\n",
      "See the caveats in the documentation: https://pandas.pydata.org/pandas-docs/stable/user_guide/indexing.html#returning-a-view-versus-a-copy\n",
      "  x_windsor[ x < lower_whisker ] = lower_whisker\n",
      "<ipython-input-289-a095c8565a5f>:15: SettingWithCopyWarning: \n",
      "A value is trying to be set on a copy of a slice from a DataFrame\n",
      "\n",
      "See the caveats in the documentation: https://pandas.pydata.org/pandas-docs/stable/user_guide/indexing.html#returning-a-view-versus-a-copy\n",
      "  x_windsor[ x > upper_whisker ] = upper_whisker\n"
     ]
    }
   ],
   "source": [
    "df_test['bmi'] = windsorize(df_test['bmi'])\n",
    "df_train['bmi'] = windsorize(df_train['bmi'])\n"
   ]
  },
  {
   "cell_type": "code",
   "execution_count": 294,
   "metadata": {},
   "outputs": [
    {
     "data": {
      "image/png": "[encoded data removed]",
      "text/plain": [
       "<Figure size 432x288 with 1 Axes>"
      ]
     },
     "metadata": {
      "needs_background": "light"
     },
     "output_type": "display_data"
    }
   ],
   "source": [
    "sns.boxplot(x=df_train['bmi'])\n",
    "plt.title('Boxplot of bmi')\n",
    "plt.show()"
   ]
  },
  {
   "cell_type": "code",
   "execution_count": 295,
   "metadata": {},
   "outputs": [
    {
     "data": {
      "image/png": "[encoded data removed]",
      "text/plain": [
       "<Figure size 432x288 with 1 Axes>"
      ]
     },
     "metadata": {
      "needs_background": "light"
     },
     "output_type": "display_data"
    }
   ],
   "source": [
    "\n",
    "ax = sns.boxplot(data=df_train)\n",
    "ax.set_xticklabels(ax.get_xticklabels(), rotation=45)  # Rotate x-axis labels\n",
    "\n",
    "plt.show()  # Show the boxplot\n",
    "# outliers fone, glucose one whisker is much longer than the other,"
   ]
  },
  {
   "cell_type": "code",
   "execution_count": 296,
   "metadata": {},
   "outputs": [
    {
     "name": "stdout",
     "output_type": "stream",
     "text": [
      "['Private' 'Self-employed' 'Govt_job' 'children' 'Never_worked']\n"
     ]
    }
   ],
   "source": [
    "print(df_test['work_type'].unique())"
   ]
  },
  {
   "cell_type": "code",
   "execution_count": 297,
   "metadata": {},
   "outputs": [],
   "source": [
    "\n",
    "df_train[\"gender_numeric\"] = df_train['gender'].replace(['Male','Female','Other'],[0,1,2])\n",
    "df_test[\"gender_numeric\"] = df_test['gender'].replace(['Male','Female'],[0,1])\n"
   ]
  },
  {
   "cell_type": "code",
   "execution_count": 298,
   "metadata": {},
   "outputs": [
    {
     "name": "stdout",
     "output_type": "stream",
     "text": [
      "['Male' 'Female' 'Other']\n",
      "[0 1 2]\n"
     ]
    }
   ],
   "source": [
    "\n",
    "print(df_train['gender'].unique())\n",
    "print(df_train['gender_numeric'].unique())"
   ]
  },
  {
   "cell_type": "code",
   "execution_count": 299,
   "metadata": {},
   "outputs": [],
   "source": [
    "df_train['ever_married_numeric']= df_train['ever_married'].replace(['No','Yes'],[0,1])\n",
    "df_test['ever_married_numeric']= df_test['ever_married'].replace(['No','Yes'],[0,1])\n"
   ]
  },
  {
   "cell_type": "code",
   "execution_count": 300,
   "metadata": {},
   "outputs": [],
   "source": [
    "df_train['Residence_type_numeric']=df_train['Residence_type'].replace(['Urban','Rural'],[0,1])\n",
    "df_test['Residence_type_numeric']= df_test['Residence_type'].replace(['Urban','Rural'],[0,1])\n"
   ]
  },
  {
   "cell_type": "code",
   "execution_count": 301,
   "metadata": {},
   "outputs": [],
   "source": [
    "df_train['smoking_status_numeric']= df_train['smoking_status'].replace(['Unknown','never smoked','formerly smoked','smokes'],[0,1,2,3])\n",
    "df_test['smoking_status_numeric']= df_test['smoking_status'].replace(['Unknown','never smoked','formerly smoked','smokes'],[0,1,2,3])\n"
   ]
  },
  {
   "cell_type": "code",
   "execution_count": 302,
   "metadata": {},
   "outputs": [],
   "source": [
    "df_train['work_type_numeric']= df_train['work_type'].replace(['Never_worked','Private','Self-employed','Govt_job','children'],[0,1,2,3,4])\n",
    "df_test['work_type_numeric']= df_test['work_type'].replace(['Never_worked','Private','Self-employed','Govt_job','children'],[0,1,2,3,4])"
   ]
  },
  {
   "cell_type": "code",
   "execution_count": 303,
   "metadata": {},
   "outputs": [
    {
     "data": {
      "text/html": [
       "<div>\n",
       "<style scoped>\n",
       "    .dataframe tbody tr th:only-of-type {\n",
       "        vertical-align: middle;\n",
       "    }\n",
       "\n",
       "    .dataframe tbody tr th {\n",
       "        vertical-align: top;\n",
       "    }\n",
       "\n",
       "    .dataframe thead th {\n",
       "        text-align: right;\n",
       "    }\n",
       "</style>\n",
       "<table border=\"1\" class=\"dataframe\">\n",
       "  <thead>\n",
       "    <tr style=\"text-align: right;\">\n",
       "      <th></th>\n",
       "      <th>gender</th>\n",
       "      <th>age</th>\n",
       "      <th>hypertension</th>\n",
       "      <th>heart_disease</th>\n",
       "      <th>ever_married</th>\n",
       "      <th>work_type</th>\n",
       "      <th>Residence_type</th>\n",
       "      <th>avg_glucose_level</th>\n",
       "      <th>bmi</th>\n",
       "      <th>smoking_status</th>\n",
       "      <th>stroke</th>\n",
       "      <th>gender_numeric</th>\n",
       "      <th>ever_married_numeric</th>\n",
       "      <th>Residence_type_numeric</th>\n",
       "      <th>smoking_status_numeric</th>\n",
       "      <th>work_type_numeric</th>\n",
       "    </tr>\n",
       "  </thead>\n",
       "  <tbody>\n",
       "    <tr>\n",
       "      <th>0</th>\n",
       "      <td>Male</td>\n",
       "      <td>36.0</td>\n",
       "      <td>0</td>\n",
       "      <td>0</td>\n",
       "      <td>Yes</td>\n",
       "      <td>Govt_job</td>\n",
       "      <td>Urban</td>\n",
       "      <td>65.87</td>\n",
       "      <td>32.2</td>\n",
       "      <td>formerly smoked</td>\n",
       "      <td>0</td>\n",
       "      <td>0</td>\n",
       "      <td>1</td>\n",
       "      <td>0</td>\n",
       "      <td>2</td>\n",
       "      <td>3</td>\n",
       "    </tr>\n",
       "    <tr>\n",
       "      <th>1</th>\n",
       "      <td>Female</td>\n",
       "      <td>45.0</td>\n",
       "      <td>0</td>\n",
       "      <td>0</td>\n",
       "      <td>Yes</td>\n",
       "      <td>Govt_job</td>\n",
       "      <td>Rural</td>\n",
       "      <td>68.66</td>\n",
       "      <td>25.3</td>\n",
       "      <td>never smoked</td>\n",
       "      <td>0</td>\n",
       "      <td>1</td>\n",
       "      <td>1</td>\n",
       "      <td>1</td>\n",
       "      <td>1</td>\n",
       "      <td>3</td>\n",
       "    </tr>\n",
       "    <tr>\n",
       "      <th>2</th>\n",
       "      <td>Male</td>\n",
       "      <td>58.0</td>\n",
       "      <td>0</td>\n",
       "      <td>0</td>\n",
       "      <td>No</td>\n",
       "      <td>Self-employed</td>\n",
       "      <td>Rural</td>\n",
       "      <td>168.67</td>\n",
       "      <td>30.7</td>\n",
       "      <td>Unknown</td>\n",
       "      <td>0</td>\n",
       "      <td>0</td>\n",
       "      <td>0</td>\n",
       "      <td>1</td>\n",
       "      <td>0</td>\n",
       "      <td>2</td>\n",
       "    </tr>\n",
       "    <tr>\n",
       "      <th>3</th>\n",
       "      <td>Female</td>\n",
       "      <td>61.0</td>\n",
       "      <td>0</td>\n",
       "      <td>0</td>\n",
       "      <td>Yes</td>\n",
       "      <td>Self-employed</td>\n",
       "      <td>Urban</td>\n",
       "      <td>69.88</td>\n",
       "      <td>27.1</td>\n",
       "      <td>never smoked</td>\n",
       "      <td>0</td>\n",
       "      <td>1</td>\n",
       "      <td>1</td>\n",
       "      <td>0</td>\n",
       "      <td>1</td>\n",
       "      <td>2</td>\n",
       "    </tr>\n",
       "    <tr>\n",
       "      <th>4</th>\n",
       "      <td>Female</td>\n",
       "      <td>78.0</td>\n",
       "      <td>0</td>\n",
       "      <td>0</td>\n",
       "      <td>No</td>\n",
       "      <td>Private</td>\n",
       "      <td>Urban</td>\n",
       "      <td>103.86</td>\n",
       "      <td>30.6</td>\n",
       "      <td>Unknown</td>\n",
       "      <td>0</td>\n",
       "      <td>1</td>\n",
       "      <td>0</td>\n",
       "      <td>0</td>\n",
       "      <td>0</td>\n",
       "      <td>1</td>\n",
       "    </tr>\n",
       "  </tbody>\n",
       "</table>\n",
       "</div>"
      ],
      "text/plain": [
       "   gender   age  hypertension  heart_disease ever_married      work_type  \\\n",
       "0    Male  36.0             0              0          Yes       Govt_job   \n",
       "1  Female  45.0             0              0          Yes       Govt_job   \n",
       "2    Male  58.0             0              0           No  Self-employed   \n",
       "3  Female  61.0             0              0          Yes  Self-employed   \n",
       "4  Female  78.0             0              0           No        Private   \n",
       "\n",
       "  Residence_type  avg_glucose_level   bmi   smoking_status  stroke  \\\n",
       "0          Urban              65.87  32.2  formerly smoked       0   \n",
       "1          Rural              68.66  25.3     never smoked       0   \n",
       "2          Rural             168.67  30.7          Unknown       0   \n",
       "3          Urban              69.88  27.1     never smoked       0   \n",
       "4          Urban             103.86  30.6          Unknown       0   \n",
       "\n",
       "   gender_numeric  ever_married_numeric  Residence_type_numeric  \\\n",
       "0               0                     1                       0   \n",
       "1               1                     1                       1   \n",
       "2               0                     0                       1   \n",
       "3               1                     1                       0   \n",
       "4               1                     0                       0   \n",
       "\n",
       "   smoking_status_numeric  work_type_numeric  \n",
       "0                       2                  3  \n",
       "1                       1                  3  \n",
       "2                       0                  2  \n",
       "3                       1                  2  \n",
       "4                       0                  1  "
      ]
     },
     "execution_count": 303,
     "metadata": {},
     "output_type": "execute_result"
    }
   ],
   "source": [
    "df_train.head()\n"
   ]
  },
  {
   "cell_type": "code",
   "execution_count": 304,
   "metadata": {},
   "outputs": [
    {
     "data": {
      "text/plain": [
       "age                       float64\n",
       "hypertension                int64\n",
       "heart_disease               int64\n",
       "avg_glucose_level         float64\n",
       "bmi                       float64\n",
       "gender_numeric              int64\n",
       "ever_married_numeric        int64\n",
       "Residence_type_numeric      int64\n",
       "smoking_status_numeric      int64\n",
       "work_type_numeric           int64\n",
       "dtype: object"
      ]
     },
     "execution_count": 304,
     "metadata": {},
     "output_type": "execute_result"
    }
   ],
   "source": [
    "#split\n",
    "y_train = df_train['stroke']\n",
    "X_train = df_train.drop([\"work_type\", \"Residence_type\", \"smoking_status\", \"ever_married\", \"gender\",], axis=1)\n",
    "X_train = X_train.drop('stroke',axis=1)\n",
    "\n",
    "#X_train.head()\n",
    "y_test = df_test['stroke']\n",
    "X_test = df_test.drop([\"work_type\", \"Residence_type\", \"smoking_status\", \"ever_married\", \"gender\",], axis=1)\n",
    "X_test = X_test.drop('stroke',axis=1)\n",
    "\n",
    "X_train.dtypes\n"
   ]
  },
  {
   "cell_type": "code",
   "execution_count": 305,
   "metadata": {},
   "outputs": [
    {
     "name": "stdout",
     "output_type": "stream",
     "text": [
      "0       2\n",
      "1       1\n",
      "2       0\n",
      "3       1\n",
      "4       0\n",
      "       ..\n",
      "4082    1\n",
      "4083    2\n",
      "4084    1\n",
      "4085    3\n",
      "4086    2\n",
      "Name: smoking_status_numeric, Length: 4087, dtype: int64\n"
     ]
    }
   ],
   "source": [
    "print(X_train['smoking_status_numeric'])"
   ]
  },
  {
   "cell_type": "code",
   "execution_count": 356,
   "metadata": {},
   "outputs": [],
   "source": [
    "#from sklearn.linear_model import LinearRegression as lr\n",
    "\n",
    "TSS = np.sum((y_test - y_test.mean())**2 )\n",
    "N_test = len(y_test)"
   ]
  },
  {
   "cell_type": "code",
   "execution_count": 357,
   "metadata": {},
   "outputs": [
    {
     "data": {
      "image/png": "[encoded data removed]",
      "text/plain": [
       "<Figure size 432x288 with 1 Axes>"
      ]
     },
     "metadata": {
      "needs_background": "light"
     },
     "output_type": "display_data"
    }
   ],
   "source": [
    "from sklearn.neighbors import KNeighborsClassifier\n",
    "from sklearn.metrics import matthews_corrcoef\n",
    "import numpy as np\n",
    "import matplotlib.pyplot as plt\n",
    "\n",
    "# Maxmin normalization function:\n",
    "def maxmin(z):\n",
    "    z = (z - min(z)) / (max(z) - min(z))\n",
    "    return z\n",
    "\n",
    "# Apply maxmin to each column of X:\n",
    "X_train_knn = X_train.apply(maxmin)\n",
    "X_test_knn = X_test.apply(maxmin)\n",
    "\n",
    "# Determine optimal k:\n",
    "k_bar = 70\n",
    "k_grid = np.arange(1, k_bar)\n",
    "MCC = np.zeros(k_bar-1)\n",
    "\n",
    "for k in range(k_bar-1):\n",
    "    model = KNeighborsClassifier(n_neighbors=k+1)\n",
    "    fitted_model = model.fit(X_train_knn, y_train)\n",
    "    y_hat = fitted_model.predict(X_test_knn)\n",
    "    mcc = matthews_corrcoef(y_test, y_hat)\n",
    "    MCC[k] = mcc\n",
    "\n",
    "MCC_max = np.max(MCC)\n",
    "max_index = np.where(MCC == MCC_max)\n",
    "k_star = k_grid[max_index][0]\n",
    "\n",
    "## MCC plot:\n",
    "plt.plot(k_grid, MCC)\n",
    "plt.xlabel(\"k\")\n",
    "plt.ylabel(\"MCC\")\n",
    "plt.title('MCC')\n",
    "plt.show()\n",
    "\n",
    "## Fit optimal model:\n",
    "model = KNeighborsClassifier(n_neighbors=max(3, k_star))\n",
    "knn_star = model.fit(X_train_knn, y_train)\n",
    "y_hat_knn = knn_star.predict(X_test_knn)\n"
   ]
  },
  {
   "cell_type": "code",
   "execution_count": 306,
   "metadata": {},
   "outputs": [],
   "source": [
    "#from sklearn.linear_model import LinearRegression as lr\n",
    "\n",
    "#TSS = np.sum((y_test - y_test.mean())**2 )\n",
    "#N_test = len(y_test)"
   ]
  },
  {
   "cell_type": "code",
   "execution_count": 358,
   "metadata": {},
   "outputs": [
    {
     "data": {
      "image/png": "[encoded data removed]",
      "text/plain": [
       "<Figure size 432x288 with 1 Axes>"
      ]
     },
     "metadata": {
      "needs_background": "light"
     },
     "output_type": "display_data"
    }
   ],
   "source": [
    "from sklearn.neighbors import KNeighborsRegressor\n",
    "\n",
    "# Maxmin normalization function:\n",
    "def maxmin(z):\n",
    "    z = (z-min(z))/(max(z)-min(z))\n",
    "    return(z)\n",
    "\n",
    "# Apply maxmin to each column of X:\n",
    "\n",
    "X_train_knn = X_train.apply(maxmin)\n",
    "X_test_knn = X_test.apply(maxmin)\n",
    "\n",
    "# Determine optimal k:\n",
    "k_bar = 70\n",
    "k_grid = np.arange(1,k_bar) # The range of k's to consider\n",
    "SSE = np.zeros(k_bar-1) # For comparison purposes, store the training error\n",
    "for k in range(k_bar-1):\n",
    "    model = KNeighborsRegressor(n_neighbors=k+1) # Create a sk model for k\n",
    "    fitted_model = model.fit(X_train_knn,y_train) # Train the model on our data\n",
    "    y_hat = fitted_model.predict(X_test_knn) # Predict values for test set\n",
    "    SSE[k] = np.sum( (y_test-y_hat)**2 ) # Save the computed SSE\n",
    "SSE_min = np.min(SSE) # Lowest recorded SSE\n",
    "min_index = np.where(SSE==SSE_min) # Find the indices of y that equal the minimum\n",
    "k_star = k_grid[min_index][0] # Find the optimal value of k\n",
    "## SSE plot:\n",
    "plt.plot(k_grid,SSE)\n",
    "plt.xlabel(\"k\")\n",
    "plt.ylabel(\"SSE\")\n",
    "plt.title('SSE')\n",
    "plt.show()\n",
    "\n",
    "## Fit optimal model:\n",
    "model = KNeighborsRegressor(n_neighbors=max(3,k_star))\n",
    "knn_star = model.fit(X_train_knn,y_train)\n",
    "y_hat_knn = knn_star.predict(X_test_knn)\n",
    "residuals_knn = y_test - y_hat_knn\n",
    "\n",
    "# Elbow is about aroun k=5, where it changes sharply... i think"
   ]
  },
  {
   "cell_type": "code",
   "execution_count": 359,
   "metadata": {},
   "outputs": [
    {
     "data": {
      "image/png": "[encoded data removed]",
      "text/plain": [
       "<Figure size 432x288 with 1 Axes>"
      ]
     },
     "metadata": {
      "needs_background": "light"
     },
     "output_type": "display_data"
    },
    {
     "data": {
      "image/png": "[encoded data removed]",
      "text/plain": [
       "<Figure size 432x288 with 1 Axes>"
      ]
     },
     "metadata": {
      "needs_background": "light"
     },
     "output_type": "display_data"
    }
   ],
   "source": [
    "## Residual plot:\n",
    "sns.kdeplot(residuals_knn)\n",
    "plt.show()\n",
    "\n",
    "## True versus predicted plot:\n",
    "plt.scatter(x=y_hat_knn,y=y_test)\n",
    "plt.title('Predicted vs. Actual Values')\n",
    "plt.show()\n",
    "\n",
    "## Metrics:\n",
    "SSE_knn = np.sum( (y_test-y_hat_knn)**2 )\n",
    "MSE_knn = SSE_knn/N_test\n",
    "RMSE_knn = (SSE_knn/N_test)**(1/2)\n",
    "R2_knn = 1 - SSE_knn/TSS\n",
    "\n",
    "# frist graph shows distribution of the stroke variable, its centered around 0.\n",
    "#This tells us most people don't have strokes because we see big peak at 0 and small peak at 1\n",
    "\n",
    "# I dont know how to read second graph"
   ]
  },
  {
   "cell_type": "code",
   "execution_count": 360,
   "metadata": {},
   "outputs": [
    {
     "data": {
      "text/html": [
       "<div>\n",
       "<style scoped>\n",
       "    .dataframe tbody tr th:only-of-type {\n",
       "        vertical-align: middle;\n",
       "    }\n",
       "\n",
       "    .dataframe tbody tr th {\n",
       "        vertical-align: top;\n",
       "    }\n",
       "\n",
       "    .dataframe thead th {\n",
       "        text-align: right;\n",
       "    }\n",
       "</style>\n",
       "<table border=\"1\" class=\"dataframe\">\n",
       "  <thead>\n",
       "    <tr style=\"text-align: right;\">\n",
       "      <th>col_0</th>\n",
       "      <th>0</th>\n",
       "      <th>1</th>\n",
       "    </tr>\n",
       "    <tr>\n",
       "      <th>stroke</th>\n",
       "      <th></th>\n",
       "      <th></th>\n",
       "    </tr>\n",
       "  </thead>\n",
       "  <tbody>\n",
       "    <tr>\n",
       "      <th>0</th>\n",
       "      <td>970</td>\n",
       "      <td>3</td>\n",
       "    </tr>\n",
       "    <tr>\n",
       "      <th>1</th>\n",
       "      <td>49</td>\n",
       "      <td>1</td>\n",
       "    </tr>\n",
       "  </tbody>\n",
       "</table>\n",
       "</div>"
      ],
      "text/plain": [
       "col_0     0  1\n",
       "stroke        \n",
       "0       970  3\n",
       "1        49  1"
      ]
     },
     "execution_count": 360,
     "metadata": {},
     "output_type": "execute_result"
    }
   ],
   "source": [
    "model = KNeighborsClassifier(n_neighbors=5)\n",
    "fitted_model = model.fit(X_train_knn,y_train) # Train the model on our data\n",
    "y_hat = fitted_model.predict(X_test_knn) # Predict values for test set\n",
    "pd.crosstab(y_test, y_hat)"
   ]
  },
  {
   "cell_type": "code",
   "execution_count": 363,
   "metadata": {},
   "outputs": [
    {
     "name": "stdout",
     "output_type": "stream",
     "text": [
      "Confusion Matrix:\n",
      "{'confusion_matrix': col_0     0.000000  0.018182  0.036364  0.054545  0.072727  0.090909  \\\n",
      "row_0                                                                  \n",
      "0.000000       368         0         0         0         0         0   \n",
      "0.018182         0       167         0         0         0         0   \n",
      "0.036364         0         0        92         0         0         0   \n",
      "0.054545         0         0         0       113         0         0   \n",
      "0.072727         0         0         0         0        64         0   \n",
      "0.090909         0         0         0         0         0        69   \n",
      "0.109091         0         0         0         0         0         0   \n",
      "0.127273         0         0         0         0         0         0   \n",
      "0.145455         0         0         0         0         0         0   \n",
      "0.163636         0         0         0         0         0         0   \n",
      "0.181818         0         0         0         0         0         0   \n",
      "0.200000         0         0         0         0         0         0   \n",
      "0.218182         0         0         0         0         0         0   \n",
      "0.236364         0         0         0         0         0         0   \n",
      "0.254545         0         0         0         0         0         0   \n",
      "0.272727         0         0         0         0         0         0   \n",
      "\n",
      "col_0     0.109091  0.127273  0.145455  0.163636  0.181818  0.200000  \\\n",
      "row_0                                                                  \n",
      "0.000000         0         0         0         0         0         0   \n",
      "0.018182         0         0         0         0         0         0   \n",
      "0.036364         0         0         0         0         0         0   \n",
      "0.054545         0         0         0         0         0         0   \n",
      "0.072727         0         0         0         0         0         0   \n",
      "0.090909         0         0         0         0         0         0   \n",
      "0.109091        50         0         0         0         0         0   \n",
      "0.127273         0        41         0         0         0         0   \n",
      "0.145455         0         0        25         0         0         0   \n",
      "0.163636         0         0         0         7         0         0   \n",
      "0.181818         0         0         0         0        12         0   \n",
      "0.200000         0         0         0         0         0         8   \n",
      "0.218182         0         0         0         0         0         0   \n",
      "0.236364         0         0         0         0         0         0   \n",
      "0.254545         0         0         0         0         0         0   \n",
      "0.272727         0         0         0         0         0         0   \n",
      "\n",
      "col_0     0.218182  0.236364  0.254545  0.272727  \n",
      "row_0                                             \n",
      "0.000000         0         0         0         0  \n",
      "0.018182         0         0         0         0  \n",
      "0.036364         0         0         0         0  \n",
      "0.054545         0         0         0         0  \n",
      "0.072727         0         0         0         0  \n",
      "0.090909         0         0         0         0  \n",
      "0.109091         0         0         0         0  \n",
      "0.127273         0         0         0         0  \n",
      "0.145455         0         0         0         0  \n",
      "0.163636         0         0         0         0  \n",
      "0.181818         0         0         0         0  \n",
      "0.200000         0         0         0         0  \n",
      "0.218182         3         0         0         0  \n",
      "0.236364         0         1         0         0  \n",
      "0.254545         0         0         2         0  \n",
      "0.272727         0         0         0         1  , 'accuracy': 1.0, 'specificity': 0.453804347826087, 'sensitivity': 1.0, 'mcc': 1.0}\n"
     ]
    }
   ],
   "source": [
    "from sklearn.metrics import confusion_matrix\n",
    "\n",
    "# isk what this is\n",
    "# Create a confusion matrix\n",
    "\n",
    "tab = pd.crosstab(np.array(y_hat_knn), np.array(y_hat_knn))\n",
    "\n",
    "print(\"Confusion Matrix:\")\n",
    "tp = tab.iloc[0,0]\n",
    "tn = tab.iloc[1,1]\n",
    "fp = tab.iloc[0,1]\n",
    "fn = tab.iloc[1,0]\n",
    "tot = tp+tn+fp+fn\n",
    "acc = (tp+tn)/tot\n",
    "spec = tn/(tp+fn)\n",
    "sens = tp/(tp+fn)\n",
    "mcc = (tp*tn-fp*fn)/np.sqrt((tp+fp)*(tp+fn)*(tn+fp)*(tn+fn))\n",
    "    \n",
    "print({'confusion_matrix':tab,\n",
    "            'accuracy':acc,\n",
    "            'specificity':spec,\n",
    "            'sensitivity':sens,\n",
    "            'mcc':mcc})"
   ]
  },
  {
   "cell_type": "code",
   "execution_count": 364,
   "metadata": {},
   "outputs": [
    {
     "name": "stdout",
     "output_type": "stream",
     "text": [
      "R^2 Score: 0.054738372418947745\n",
      "RMSE: 0.20962438560742405\n"
     ]
    }
   ],
   "source": [
    "from sklearn.metrics import r2_score, mean_squared_error\n",
    "\n",
    "r2 = r2_score(y_test, y_hat_knn)\n",
    "print(f\"R^2 Score: {r2}\")\n",
    "\n",
    "mse = mean_squared_error(y_test, y_hat_knn)\n",
    "rmse = np.sqrt(mse)\n",
    "print(f\"RMSE: {rmse}\")\n"
   ]
  },
  {
   "cell_type": "code",
   "execution_count": null,
   "metadata": {},
   "outputs": [],
   "source": []
  },
  {
   "cell_type": "code",
   "execution_count": null,
   "metadata": {},
   "outputs": [],
   "source": []
  },
  {
   "cell_type": "code",
   "execution_count": null,
   "metadata": {},
   "outputs": [],
   "source": []
  }
 ],
 "metadata": {
  "colab": {
   "include_colab_link": true,
   "provenance": [],
   "toc_visible": true
  },
  "kernelspec": {
   "display_name": "Python 3",
   "language": "python",
   "name": "python3"
  },
  "language_info": {
   "codemirror_mode": {
    "name": "ipython",
    "version": 3
   },
   "file_extension": ".py",
   "mimetype": "text/x-python",
   "name": "python",
   "nbconvert_exporter": "python",
   "pygments_lexer": "ipython3",
   "version": "3.8.8"
  }
 },
 "nbformat": 4,
 "nbformat_minor": 4
}
