{
 "cells": [
  {
   "cell_type": "markdown",
   "metadata": {
    "colab_type": "text",
    "id": "view-in-github"
   },
   "source": [
    "<a href=\"https://colab.research.google.com/github/Ymy9he/group23/blob/main/finalproject.ipynb\" target=\"_parent\"><img src=\"https://colab.research.google.com/assets/colab-badge.svg\" alt=\"Open In Colab\"/></a>"
   ]
  },
  {
   "cell_type": "code",
   "execution_count": 2,
   "metadata": {
    "id": "gIDO7jNJJMfq"
   },
   "outputs": [],
   "source": [
    "import pandas as pd\n",
    "from sklearn.model_selection import train_test_split\n",
    "from sklearn.preprocessing import StandardScaler, OneHotEncoder\n",
    "from sklearn.neighbors import KNeighborsClassifier\n",
    "from sklearn.metrics import classification_report, confusion_matrix, accuracy_score\n",
    "from sklearn.impute import SimpleImputer\n",
    "from sklearn.ensemble import RandomForestClassifier, GradientBoostingClassifier\n",
    "from sklearn.utils import resample\n",
    "import seaborn as sns\n"
   ]
  },
  {
   "cell_type": "code",
   "execution_count": 3,
   "metadata": {
    "id": "HHVI3DiHQWkB"
   },
   "outputs": [],
   "source": [
    "# read in the data\n",
    "#df_train =pd.read_csv('/content/training_data.csv.crdownload')\n",
    "#df_test =pd.read_csv('/content/testing_data.csv.crdownload')\n",
    "\n",
    "\n",
    "#https://stackoverflow.com/questions/55240330/how-to-read-csv-file-from-github-using-pandas\n",
    "\n",
    "url = 'https://raw.githubusercontent.com/DS3001/group23/main/project_2/data/testing_data.csv'\n",
    "url2 = 'https://raw.githubusercontent.com/DS3001/group23/main/project_2/data/training_data.csv'\n",
    "\n",
    "df_test = pd.read_csv(url, index_col=0)\n",
    "df_train = pd.read_csv(url, index_col=0)"
   ]
  },
  {
   "cell_type": "code",
   "execution_count": 5,
   "metadata": {
    "colab": {
     "base_uri": "https://localhost:8080/"
    },
    "id": "JXYip7juK1lL",
    "outputId": "1a110621-a90c-4361-9002-10bd7b2afa3f"
   },
   "outputs": [
    {
     "data": {
      "text/plain": [
       "id                   0\n",
       "gender               0\n",
       "age                  0\n",
       "hypertension         0\n",
       "heart_disease        0\n",
       "ever_married         0\n",
       "work_type            0\n",
       "Residence_type       0\n",
       "avg_glucose_level    0\n",
       "bmi                  0\n",
       "smoking_status       0\n",
       "stroke               0\n",
       "dtype: int64"
      ]
     },
     "execution_count": 5,
     "metadata": {},
     "output_type": "execute_result"
    }
   ],
   "source": [
    "# I commented this out because there is no df\n",
    "#missing_values = df.isnull().sum()\n",
    "#print(\"Missing Values:\")\n",
    "#print(missing_values) # No missing values to clean\n",
    "\n",
    "# Impute missing values for BMI\n",
    "df_train['bmi'].fillna(df_train['bmi'].mean(), inplace=True)\n",
    "df_test['bmi'].fillna(df_test['bmi'].mean(), inplace=True)\n",
    "df_train.isnull().sum() # No more NA Values"
   ]
  },
  {
   "cell_type": "code",
   "execution_count": 18,
   "metadata": {
    "colab": {
     "base_uri": "https://localhost:8080/"
    },
    "id": "uOtM7-VsbUwW",
    "outputId": "6d275e21-a96f-41f3-8c5b-57b209557b0d"
   },
   "outputs": [
    {
     "name": "stdout",
     "output_type": "stream",
     "text": [
      "Intercept: -0.10389813446459303\n",
      "Coefficients: [ 3.26742613e-03  3.85259189e-02  2.63761338e-02  9.99006221e-05\n",
      " -1.19225633e-03  1.55121725e-04 -2.03753118e-02  2.39404502e-02\n",
      "  7.08275088e-02  4.17517461e-02  1.91860250e-02  8.45272693e-02\n",
      " -9.50180265e-03 -1.77715238e-02 -2.28869137e-03]\n",
      "R squared measure: 0.06544215232602912\n"
     ]
    }
   ],
   "source": [
    "from sklearn.linear_model import LinearRegression # Import linear regression model\n",
    "from sklearn.model_selection import train_test_split\n",
    "def pn(x):\n",
    "    print(x,'\\n')\n",
    "\n",
    "\n",
    "# Separate numeric and categorical columns\n",
    "num_cols = ['age', 'hypertension', 'heart_disease', 'avg_glucose_level', 'bmi']\n",
    "cat_cols = ['gender', 'ever_married', 'Residence_type', 'work_type', 'smoking_status']\n",
    "\n",
    "# Include 'stroke' column (target variable)\n",
    "y = df_train['stroke']\n",
    "\n",
    "ym_encoded = pd.get_dummies(df_train[cat_cols], drop_first=True, dtype='int')\n",
    "\n",
    "\n",
    "#ym_encoded.head()\n",
    "\n",
    "\n",
    "# Combine encoded categorical and numeric columns\n",
    "ym = pd.concat([df_train[num_cols], ym_encoded], axis=1)\n",
    "\n",
    "# Split data into training and testing sets\n",
    "X_train, X_test, y_train, y_test = train_test_split(ym, y, test_size=0.2, random_state=42)\n",
    "X_train.head()\n",
    "\n",
    "reg = LinearRegression().fit(X_train, y_train)\n",
    "\n",
    "# Print model evaluation metrics\n",
    "print(\"Intercept:\", reg.intercept_)  # Intercept value\n",
    "print(\"Coefficients:\", reg.coef_)    # Regression coefficients\n",
    "print(\"R squared measure:\", reg.score(X_test, y_test))  # R squared measure\n",
    "print(\"Intercept\")\n",
    "pn(reg.intercept_) # Intercept value\n",
    "print(\"Coef\")\n",
    "pn(reg.coef_) # Regression coefficients\n",
    "print(\"R squared measure\")\n",
    "pn(reg.score(X_test[num_cols], y_test))  # R squared measure"
   ]
  },
  {
   "cell_type": "code",
   "execution_count": null,
   "metadata": {},
   "outputs": [],
   "source": []
  },
  {
   "cell_type": "code",
   "execution_count": null,
   "metadata": {},
   "outputs": [],
   "source": [
    "\n",
    "X = pd.concat([X1,X2],axis=1) # Concatenate engineered features\n",
    "ym = pd.DataFrame(df_train[num_cols + cat_cols])\n",
    "\n",
    "X_train, X_test, y_train, y_test = train_test_split(ym, y, test_size=0.2, random_state=42)\n",
    "X_train.head()\n",
    "\n",
    "reg = LinearRegression().fit(X_train[num_cols], y_train)\n",
    "\n",
    "\n",
    "# Combine numeric and categorical data\n",
    "training_data_combined = pd.concat([df_train, df_test], axis=1)\n"
   ]
  },
  {
   "cell_type": "code",
   "execution_count": null,
   "metadata": {},
   "outputs": [],
   "source": []
  }
 ],
 "metadata": {
  "colab": {
   "include_colab_link": true,
   "provenance": [],
   "toc_visible": true
  },
  "kernelspec": {
   "display_name": "Python 3",
   "language": "python",
   "name": "python3"
  },
  "language_info": {
   "codemirror_mode": {
    "name": "ipython",
    "version": 3
   },
   "file_extension": ".py",
   "mimetype": "text/x-python",
   "name": "python",
   "nbconvert_exporter": "python",
   "pygments_lexer": "ipython3",
   "version": "3.8.8"
  }
 },
 "nbformat": 4,
 "nbformat_minor": 4
}
