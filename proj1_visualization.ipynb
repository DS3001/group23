{
  "nbformat": 4,
  "nbformat_minor": 0,
  "metadata": {
    "colab": {
      "provenance": [],
      "authorship_tag": "ABX9TyM0Vh0p3LlJGe5XcCcU9SDI",
      "include_colab_link": true
    },
    "kernelspec": {
      "name": "python3",
      "display_name": "Python 3"
    },
    "language_info": {
      "name": "python"
    }
  },
  "cells": [
    {
      "cell_type": "markdown",
      "metadata": {
        "id": "view-in-github",
        "colab_type": "text"
      },
      "source": [
        "<a href=\"https://colab.research.google.com/github/DS3001/group23/blob/main/proj1_visualization.ipynb\" target=\"_parent\"><img src=\"https://colab.research.google.com/assets/colab-badge.svg\" alt=\"Open In Colab\"/></a>"
      ]
    },
    {
      "cell_type": "code",
      "execution_count": 59,
      "metadata": {
        "colab": {
          "base_uri": "https://localhost:8080/",
          "height": 174
        },
        "id": "Ki1HF0KvyniQ",
        "outputId": "f5027724-5c91-44ae-b327-9a5c624a2ed2"
      },
      "outputs": [
        {
          "output_type": "execute_result",
          "data": {
            "text/plain": [
              "             degree         class prestige\n",
              "count         72230         68894    24303\n",
              "unique            6             6       63\n",
              "top     high school  middle class     50.0\n",
              "freq          36446         31014     1913"
            ],
            "text/html": [
              "\n",
              "  <div id=\"df-a4dbfe13-eeba-4526-81e0-494765aafb76\" class=\"colab-df-container\">\n",
              "    <div>\n",
              "<style scoped>\n",
              "    .dataframe tbody tr th:only-of-type {\n",
              "        vertical-align: middle;\n",
              "    }\n",
              "\n",
              "    .dataframe tbody tr th {\n",
              "        vertical-align: top;\n",
              "    }\n",
              "\n",
              "    .dataframe thead th {\n",
              "        text-align: right;\n",
              "    }\n",
              "</style>\n",
              "<table border=\"1\" class=\"dataframe\">\n",
              "  <thead>\n",
              "    <tr style=\"text-align: right;\">\n",
              "      <th></th>\n",
              "      <th>degree</th>\n",
              "      <th>class</th>\n",
              "      <th>prestige</th>\n",
              "    </tr>\n",
              "  </thead>\n",
              "  <tbody>\n",
              "    <tr>\n",
              "      <th>count</th>\n",
              "      <td>72230</td>\n",
              "      <td>68894</td>\n",
              "      <td>24303</td>\n",
              "    </tr>\n",
              "    <tr>\n",
              "      <th>unique</th>\n",
              "      <td>6</td>\n",
              "      <td>6</td>\n",
              "      <td>63</td>\n",
              "    </tr>\n",
              "    <tr>\n",
              "      <th>top</th>\n",
              "      <td>high school</td>\n",
              "      <td>middle class</td>\n",
              "      <td>50.0</td>\n",
              "    </tr>\n",
              "    <tr>\n",
              "      <th>freq</th>\n",
              "      <td>36446</td>\n",
              "      <td>31014</td>\n",
              "      <td>1913</td>\n",
              "    </tr>\n",
              "  </tbody>\n",
              "</table>\n",
              "</div>\n",
              "    <div class=\"colab-df-buttons\">\n",
              "\n",
              "  <div class=\"colab-df-container\">\n",
              "    <button class=\"colab-df-convert\" onclick=\"convertToInteractive('df-a4dbfe13-eeba-4526-81e0-494765aafb76')\"\n",
              "            title=\"Convert this dataframe to an interactive table.\"\n",
              "            style=\"display:none;\">\n",
              "\n",
              "  <svg xmlns=\"http://www.w3.org/2000/svg\" height=\"24px\" viewBox=\"0 -960 960 960\">\n",
              "    <path d=\"M120-120v-720h720v720H120Zm60-500h600v-160H180v160Zm220 220h160v-160H400v160Zm0 220h160v-160H400v160ZM180-400h160v-160H180v160Zm440 0h160v-160H620v160ZM180-180h160v-160H180v160Zm440 0h160v-160H620v160Z\"/>\n",
              "  </svg>\n",
              "    </button>\n",
              "\n",
              "  <style>\n",
              "    .colab-df-container {\n",
              "      display:flex;\n",
              "      gap: 12px;\n",
              "    }\n",
              "\n",
              "    .colab-df-convert {\n",
              "      background-color: #E8F0FE;\n",
              "      border: none;\n",
              "      border-radius: 50%;\n",
              "      cursor: pointer;\n",
              "      display: none;\n",
              "      fill: #1967D2;\n",
              "      height: 32px;\n",
              "      padding: 0 0 0 0;\n",
              "      width: 32px;\n",
              "    }\n",
              "\n",
              "    .colab-df-convert:hover {\n",
              "      background-color: #E2EBFA;\n",
              "      box-shadow: 0px 1px 2px rgba(60, 64, 67, 0.3), 0px 1px 3px 1px rgba(60, 64, 67, 0.15);\n",
              "      fill: #174EA6;\n",
              "    }\n",
              "\n",
              "    .colab-df-buttons div {\n",
              "      margin-bottom: 4px;\n",
              "    }\n",
              "\n",
              "    [theme=dark] .colab-df-convert {\n",
              "      background-color: #3B4455;\n",
              "      fill: #D2E3FC;\n",
              "    }\n",
              "\n",
              "    [theme=dark] .colab-df-convert:hover {\n",
              "      background-color: #434B5C;\n",
              "      box-shadow: 0px 1px 3px 1px rgba(0, 0, 0, 0.15);\n",
              "      filter: drop-shadow(0px 1px 2px rgba(0, 0, 0, 0.3));\n",
              "      fill: #FFFFFF;\n",
              "    }\n",
              "  </style>\n",
              "\n",
              "    <script>\n",
              "      const buttonEl =\n",
              "        document.querySelector('#df-a4dbfe13-eeba-4526-81e0-494765aafb76 button.colab-df-convert');\n",
              "      buttonEl.style.display =\n",
              "        google.colab.kernel.accessAllowed ? 'block' : 'none';\n",
              "\n",
              "      async function convertToInteractive(key) {\n",
              "        const element = document.querySelector('#df-a4dbfe13-eeba-4526-81e0-494765aafb76');\n",
              "        const dataTable =\n",
              "          await google.colab.kernel.invokeFunction('convertToInteractive',\n",
              "                                                    [key], {});\n",
              "        if (!dataTable) return;\n",
              "\n",
              "        const docLinkHtml = 'Like what you see? Visit the ' +\n",
              "          '<a target=\"_blank\" href=https://colab.research.google.com/notebooks/data_table.ipynb>data table notebook</a>'\n",
              "          + ' to learn more about interactive tables.';\n",
              "        element.innerHTML = '';\n",
              "        dataTable['output_type'] = 'display_data';\n",
              "        await google.colab.output.renderOutput(dataTable, element);\n",
              "        const docLink = document.createElement('div');\n",
              "        docLink.innerHTML = docLinkHtml;\n",
              "        element.appendChild(docLink);\n",
              "      }\n",
              "    </script>\n",
              "  </div>\n",
              "\n",
              "\n",
              "<div id=\"df-f13d8801-138d-4a1e-943a-54f8354cad3d\">\n",
              "  <button class=\"colab-df-quickchart\" onclick=\"quickchart('df-f13d8801-138d-4a1e-943a-54f8354cad3d')\"\n",
              "            title=\"Suggest charts.\"\n",
              "            style=\"display:none;\">\n",
              "\n",
              "<svg xmlns=\"http://www.w3.org/2000/svg\" height=\"24px\"viewBox=\"0 0 24 24\"\n",
              "     width=\"24px\">\n",
              "    <g>\n",
              "        <path d=\"M19 3H5c-1.1 0-2 .9-2 2v14c0 1.1.9 2 2 2h14c1.1 0 2-.9 2-2V5c0-1.1-.9-2-2-2zM9 17H7v-7h2v7zm4 0h-2V7h2v10zm4 0h-2v-4h2v4z\"/>\n",
              "    </g>\n",
              "</svg>\n",
              "  </button>\n",
              "\n",
              "<style>\n",
              "  .colab-df-quickchart {\n",
              "      --bg-color: #E8F0FE;\n",
              "      --fill-color: #1967D2;\n",
              "      --hover-bg-color: #E2EBFA;\n",
              "      --hover-fill-color: #174EA6;\n",
              "      --disabled-fill-color: #AAA;\n",
              "      --disabled-bg-color: #DDD;\n",
              "  }\n",
              "\n",
              "  [theme=dark] .colab-df-quickchart {\n",
              "      --bg-color: #3B4455;\n",
              "      --fill-color: #D2E3FC;\n",
              "      --hover-bg-color: #434B5C;\n",
              "      --hover-fill-color: #FFFFFF;\n",
              "      --disabled-bg-color: #3B4455;\n",
              "      --disabled-fill-color: #666;\n",
              "  }\n",
              "\n",
              "  .colab-df-quickchart {\n",
              "    background-color: var(--bg-color);\n",
              "    border: none;\n",
              "    border-radius: 50%;\n",
              "    cursor: pointer;\n",
              "    display: none;\n",
              "    fill: var(--fill-color);\n",
              "    height: 32px;\n",
              "    padding: 0;\n",
              "    width: 32px;\n",
              "  }\n",
              "\n",
              "  .colab-df-quickchart:hover {\n",
              "    background-color: var(--hover-bg-color);\n",
              "    box-shadow: 0 1px 2px rgba(60, 64, 67, 0.3), 0 1px 3px 1px rgba(60, 64, 67, 0.15);\n",
              "    fill: var(--button-hover-fill-color);\n",
              "  }\n",
              "\n",
              "  .colab-df-quickchart-complete:disabled,\n",
              "  .colab-df-quickchart-complete:disabled:hover {\n",
              "    background-color: var(--disabled-bg-color);\n",
              "    fill: var(--disabled-fill-color);\n",
              "    box-shadow: none;\n",
              "  }\n",
              "\n",
              "  .colab-df-spinner {\n",
              "    border: 2px solid var(--fill-color);\n",
              "    border-color: transparent;\n",
              "    border-bottom-color: var(--fill-color);\n",
              "    animation:\n",
              "      spin 1s steps(1) infinite;\n",
              "  }\n",
              "\n",
              "  @keyframes spin {\n",
              "    0% {\n",
              "      border-color: transparent;\n",
              "      border-bottom-color: var(--fill-color);\n",
              "      border-left-color: var(--fill-color);\n",
              "    }\n",
              "    20% {\n",
              "      border-color: transparent;\n",
              "      border-left-color: var(--fill-color);\n",
              "      border-top-color: var(--fill-color);\n",
              "    }\n",
              "    30% {\n",
              "      border-color: transparent;\n",
              "      border-left-color: var(--fill-color);\n",
              "      border-top-color: var(--fill-color);\n",
              "      border-right-color: var(--fill-color);\n",
              "    }\n",
              "    40% {\n",
              "      border-color: transparent;\n",
              "      border-right-color: var(--fill-color);\n",
              "      border-top-color: var(--fill-color);\n",
              "    }\n",
              "    60% {\n",
              "      border-color: transparent;\n",
              "      border-right-color: var(--fill-color);\n",
              "    }\n",
              "    80% {\n",
              "      border-color: transparent;\n",
              "      border-right-color: var(--fill-color);\n",
              "      border-bottom-color: var(--fill-color);\n",
              "    }\n",
              "    90% {\n",
              "      border-color: transparent;\n",
              "      border-bottom-color: var(--fill-color);\n",
              "    }\n",
              "  }\n",
              "</style>\n",
              "\n",
              "  <script>\n",
              "    async function quickchart(key) {\n",
              "      const quickchartButtonEl =\n",
              "        document.querySelector('#' + key + ' button');\n",
              "      quickchartButtonEl.disabled = true;  // To prevent multiple clicks.\n",
              "      quickchartButtonEl.classList.add('colab-df-spinner');\n",
              "      try {\n",
              "        const charts = await google.colab.kernel.invokeFunction(\n",
              "            'suggestCharts', [key], {});\n",
              "      } catch (error) {\n",
              "        console.error('Error during call to suggestCharts:', error);\n",
              "      }\n",
              "      quickchartButtonEl.classList.remove('colab-df-spinner');\n",
              "      quickchartButtonEl.classList.add('colab-df-quickchart-complete');\n",
              "    }\n",
              "    (() => {\n",
              "      let quickchartButtonEl =\n",
              "        document.querySelector('#df-f13d8801-138d-4a1e-943a-54f8354cad3d button');\n",
              "      quickchartButtonEl.style.display =\n",
              "        google.colab.kernel.accessAllowed ? 'block' : 'none';\n",
              "    })();\n",
              "  </script>\n",
              "</div>\n",
              "    </div>\n",
              "  </div>\n"
            ]
          },
          "metadata": {},
          "execution_count": 59
        }
      ],
      "source": [
        "# is there a corelation between degree obtained (the response variable) and ( the explanatory variables) prestige level and percieved self status.\n",
        "# density plot graph\n",
        "# can make a box plots of perceived status(y) and education level(x)\n",
        "#can see if avrage prestige staus in certain education levels\n",
        "\n",
        "import pandas as pd\n",
        "var_list = ['degree', 'class', 'prestige']# List of variables to save\n",
        "output_file = 'raw_gss_data2.csv' # Name of the file to save the data to\n",
        "#\n",
        "modes = ['w','a'] # Has write mode and append mode\n",
        "phase = 0 # Starts in write mode; after one iteration of loop, switches to append mode\n",
        "#\n",
        "for k in range(37): # r each chunk of the data\n",
        "    url = 'https://github.com/DS3001/gss_zip/raw/main/gss_' + str(1+k) + '.csv' # Create url to the chunk to be processed\n",
        "   # print(url) # Check the url is correct\n",
        "    df = pd.read_csv(url,low_memory=False) # Download this chunk of data\n",
        "   # print(df.head()) # Visually inspect the first few rows\n",
        "    df.loc[:,var_list].to_csv(output_file, # specifies target file to save the chunk to\n",
        "                              mode=modes[phase], # control write versus append\n",
        "                              header=var_list, # variable names\n",
        "                              index=False) # no row index saved\n",
        "    phase = 1 # Switch from write mode to append mode\n",
        "    k =+ 1\n",
        "df = pd.read_csv('raw_gss_data2.csv')\n",
        "df.describe()\n"
      ]
    },
    {
      "cell_type": "code",
      "source": [
        "# Check list of the unique values occuring for \"educ\" variable\n",
        "unique_degree= df['degree'].unique() #\n",
        "print(unique_degree)\n",
        "print(df['degree'].value_counts())\n",
        "missing_values = df['degree'].isnull().sum() #check missing values\n",
        "print(\"Number of missing values \", missing_values) # 196\n",
        "df['degree'].describe()"
      ],
      "metadata": {
        "colab": {
          "base_uri": "https://localhost:8080/"
        },
        "id": "DJ9CumzezDaS",
        "outputId": "6fd61ff6-6e43-4d9d-e134-7d8d8f32e04e"
      },
      "execution_count": 60,
      "outputs": [
        {
          "output_type": "stream",
          "name": "stdout",
          "text": [
            "[\"bachelor's\" 'less than high school' 'high school' 'graduate'\n",
            " 'associate/junior college' nan 'degree']\n",
            "high school                 36446\n",
            "less than high school       14192\n",
            "bachelor's                  11248\n",
            "graduate                     5953\n",
            "associate/junior college     4355\n",
            "degree                         36\n",
            "Name: degree, dtype: int64\n",
            "Number of missing values  196\n"
          ]
        },
        {
          "output_type": "execute_result",
          "data": {
            "text/plain": [
              "count           72230\n",
              "unique              6\n",
              "top       high school\n",
              "freq            36446\n",
              "Name: degree, dtype: object"
            ]
          },
          "metadata": {},
          "execution_count": 60
        }
      ]
    },
    {
      "cell_type": "code",
      "source": [
        "import numpy as np\n",
        "\n",
        "df['degree_no_na'] = df['degree'].replace('degree', np.nan)\n",
        "df= df[-df['degree_no_na'].isna()]\n",
        "#df = df[-df['class_no_na'].isna()]\n",
        "\n",
        "#df['degree_no_na'] = df['degree'].replace('Unknown', np.nan) # get rid of prestige variable (same as with educ but differnet way)\n",
        "#df['degree_no_na']=df['degree'].replace(np.nan, 'Unknown')\n",
        "#df['degree'] = df['degree'].replace(np.nan, 'Unknown')  # update the 'fear' column\n",
        "#degree_no_na =\n",
        "#unique_degree= df['degree'].unique()\n",
        "#print(df['degree_no_na'])\n",
        "#print(df['degree_no_na'].value_counts())\n",
        "print(df['degree_no_na'].value_counts())\n",
        "df['degree_no_na'].describe()\n"
      ],
      "metadata": {
        "colab": {
          "base_uri": "https://localhost:8080/"
        },
        "id": "MnMNt3umzFfR",
        "outputId": "de67f133-c283-49c2-c5a0-eaa3f2c82370"
      },
      "execution_count": 61,
      "outputs": [
        {
          "output_type": "stream",
          "name": "stdout",
          "text": [
            "high school                 36446\n",
            "less than high school       14192\n",
            "bachelor's                  11248\n",
            "graduate                     5953\n",
            "associate/junior college     4355\n",
            "Name: degree_no_na, dtype: int64\n"
          ]
        },
        {
          "output_type": "execute_result",
          "data": {
            "text/plain": [
              "count           72194\n",
              "unique              5\n",
              "top       high school\n",
              "freq            36446\n",
              "Name: degree_no_na, dtype: object"
            ]
          },
          "metadata": {},
          "execution_count": 61
        }
      ]
    },
    {
      "cell_type": "code",
      "source": [
        "# Check unique values and count of 'prestige' variable\n",
        "unique_prestige = df['prestige'].unique()\n",
        "print(unique_prestige)\n",
        "print(df['prestige'].value_counts())\n",
        "\n",
        "# Check the number of missing values in 'prestige'\n",
        "missing_values_prestige = df['prestige'].isnull().sum()\n",
        "print(\"Number of missing values in prestige: \", missing_values_prestige)"
      ],
      "metadata": {
        "colab": {
          "base_uri": "https://localhost:8080/"
        },
        "id": "Sq_y6HR_zH_9",
        "outputId": "b0670f11-4c6a-4208-f8f4-f62368e2f481"
      },
      "execution_count": 62,
      "outputs": [
        {
          "output_type": "stream",
          "name": "stdout",
          "text": [
            "['50.0' '45.0' '44.0' '57.0' '40.0' '49.0' '41.0' '36.0' '26.0' '18.0'\n",
            " '12.0' '32.0' '63.0' nan '51.0' '46.0' '60.0' '19.0' '34.0' '22.0' '29.0'\n",
            " '62.0' '47.0' '48.0' '17.0' '33.0' '38.0' '27.0' '14.0' '25.0' '20.0'\n",
            " '78.0' '35.0' '67.0' '56.0' '69.0' '16.0' '39.0' '23.0' '43.0' '31.0'\n",
            " '42.0' '61.0' '72.0' '37.0' '74.0' '54.0' '30.0' '28.0' '52.0' '15.0'\n",
            " '68.0' '24.0' '55.0' '76.0' '58.0' '71.0' '82.0' '21.0' '53.0' '65.0'\n",
            " '66.0' '70.0']\n",
            "50.0    1906\n",
            "36.0    1867\n",
            "46.0    1241\n",
            "32.0    1163\n",
            "34.0     977\n",
            "        ... \n",
            "66.0      14\n",
            "53.0      13\n",
            "70.0      11\n",
            "21.0       7\n",
            "65.0       1\n",
            "Name: prestige, Length: 62, dtype: int64\n",
            "Number of missing values in prestige:  48011\n"
          ]
        }
      ]
    },
    {
      "cell_type": "code",
      "source": [
        "# Replace missing values with 'Unknown'\n",
        "\n",
        "df['prestige_no_na'] = df['prestige'].replace('prestige', np.nan) # get rid of prestige variable (same as with educ but differnet way)\n",
        "df= df[-df['prestige_no_na'].isna()]\n",
        "#df['prestige_no_na'] = df['prestige'].replace(np.nan, 'other')\n",
        "#df['prestige'] = df['prestige'].replace(np.nan, 'other')\n",
        "\n",
        "# Check unique values and count of 'prestige' after replacement\n",
        "unique_prestige = df['prestige_no_na'].unique()\n",
        "print(unique_prestige)\n",
        "print(df['prestige_no_na'].value_counts())\n"
      ],
      "metadata": {
        "colab": {
          "base_uri": "https://localhost:8080/"
        },
        "id": "RSV8aqpUzKHh",
        "outputId": "e9eef225-6a34-49e5-ea80-3bceeb1d1f1f"
      },
      "execution_count": 63,
      "outputs": [
        {
          "output_type": "stream",
          "name": "stdout",
          "text": [
            "['50.0' '45.0' '44.0' '57.0' '40.0' '49.0' '41.0' '36.0' '26.0' '18.0'\n",
            " '12.0' '32.0' '63.0' '51.0' '46.0' '60.0' '19.0' '34.0' '22.0' '29.0'\n",
            " '62.0' '47.0' '48.0' '17.0' '33.0' '38.0' '27.0' '14.0' '25.0' '20.0'\n",
            " '78.0' '35.0' '67.0' '56.0' '69.0' '16.0' '39.0' '23.0' '43.0' '31.0'\n",
            " '42.0' '61.0' '72.0' '37.0' '74.0' '54.0' '30.0' '28.0' '52.0' '15.0'\n",
            " '68.0' '24.0' '55.0' '76.0' '58.0' '71.0' '82.0' '21.0' '53.0' '65.0'\n",
            " '66.0' '70.0']\n",
            "50.0    1906\n",
            "36.0    1867\n",
            "46.0    1241\n",
            "32.0    1163\n",
            "34.0     977\n",
            "        ... \n",
            "66.0      14\n",
            "53.0      13\n",
            "70.0      11\n",
            "21.0       7\n",
            "65.0       1\n",
            "Name: prestige_no_na, Length: 62, dtype: int64\n"
          ]
        }
      ]
    },
    {
      "cell_type": "code",
      "source": [
        "#Check unique values and count of 'class' variable\n",
        "unique_class = df['class'].unique()\n",
        "print(unique_class)\n",
        "print(df['class'].value_counts())\n",
        "\n",
        "# Check the number of missing values in 'class'\n",
        "missing_values_class = df['class'].isnull().sum() # 1513\n",
        "print(\"Number of missing values in class: \", missing_values_class)\n"
      ],
      "metadata": {
        "colab": {
          "base_uri": "https://localhost:8080/"
        },
        "id": "Nk6G3jqxzNyO",
        "outputId": "9fbe0a54-7c3a-435c-914c-06d26ffdc5cc"
      },
      "execution_count": 64,
      "outputs": [
        {
          "output_type": "stream",
          "name": "stdout",
          "text": [
            "['middle class' 'working class' 'upper class' 'lower class' nan 'no class']\n",
            "working class    10733\n",
            "middle class     10230\n",
            "lower class       1027\n",
            "upper class        679\n",
            "no class             1\n",
            "Name: class, dtype: int64\n",
            "Number of missing values in class:  1513\n"
          ]
        }
      ]
    },
    {
      "cell_type": "code",
      "source": [
        "# Replace missing values with 'Unknown'\n",
        "#df['class_no_na'] = df['class'].replace(np.nan, 'Unknown')\n",
        "#df['class'] = df['class'].replace(np.nan, 'Unknown')\n",
        "\n",
        "# Check unique values and count of 'class' after replacement\n",
        "\n",
        "df['class_no_na'] = df['class']\n",
        "df = df[-df['class_no_na'].isna()]\n",
        "\n",
        "\n",
        "\n",
        "unique_class = df['class_no_na'].unique()\n",
        "print(unique_class)\n",
        "print(df['class_no_na'].value_counts())\n",
        "df['class_no_na'].describe()"
      ],
      "metadata": {
        "colab": {
          "base_uri": "https://localhost:8080/"
        },
        "id": "tOwPFltPzQrp",
        "outputId": "4080ecd1-e651-4457-c7d5-dea467ab7190"
      },
      "execution_count": 65,
      "outputs": [
        {
          "output_type": "stream",
          "name": "stdout",
          "text": [
            "['middle class' 'working class' 'upper class' 'lower class' 'no class']\n",
            "working class    10733\n",
            "middle class     10230\n",
            "lower class       1027\n",
            "upper class        679\n",
            "no class             1\n",
            "Name: class_no_na, dtype: int64\n"
          ]
        },
        {
          "output_type": "execute_result",
          "data": {
            "text/plain": [
              "count             22670\n",
              "unique                5\n",
              "top       working class\n",
              "freq              10733\n",
              "Name: class_no_na, dtype: object"
            ]
          },
          "metadata": {},
          "execution_count": 65
        }
      ]
    },
    {
      "cell_type": "code",
      "source": [
        "# visualization\n",
        "import seaborn as sns\n",
        "import matplotlib.pyplot as plt"
      ],
      "metadata": {
        "id": "4TNvMyOZzSb7"
      },
      "execution_count": 66,
      "outputs": []
    },
    {
      "cell_type": "code",
      "source": [
        "var = 'prestige_no_na'\n",
        "var1 = 'degree'\n",
        "#sns.boxplot(data=df, x=var)\n",
        "#sns.boxplot(df[var])"
      ],
      "metadata": {
        "id": "aNcgy2XVzvdq"
      },
      "execution_count": 67,
      "outputs": []
    },
    {
      "cell_type": "code",
      "source": [
        "print(df['prestige_no_na'].min())"
      ],
      "metadata": {
        "colab": {
          "base_uri": "https://localhost:8080/"
        },
        "id": "NhV3pnET49xn",
        "outputId": "dde641c6-bb57-495c-9018-74b999745527"
      },
      "execution_count": 68,
      "outputs": [
        {
          "output_type": "stream",
          "name": "stdout",
          "text": [
            "12.0\n"
          ]
        }
      ]
    },
    {
      "cell_type": "code",
      "source": [
        "print(df['prestige_no_na'].max())"
      ],
      "metadata": {
        "colab": {
          "base_uri": "https://localhost:8080/"
        },
        "id": "_SBEdaMe5OtK",
        "outputId": "8fc61f09-abd7-4192-e03c-1e91f0b7ecd8"
      },
      "execution_count": 69,
      "outputs": [
        {
          "output_type": "stream",
          "name": "stdout",
          "text": [
            "82.0\n"
          ]
        }
      ]
    },
    {
      "cell_type": "code",
      "source": [
        "df['prestige_no_na'] = pd.to_numeric(df['prestige_no_na'], errors='coerce')\n",
        "df['class_no_na'] = pd.to_numeric(df['class_no_na'], errors='coerce')"
      ],
      "metadata": {
        "id": "Zd9xnBva_6yX"
      },
      "execution_count": 73,
      "outputs": []
    },
    {
      "cell_type": "code",
      "source": [
        "# Level of education histogram\n",
        "\n",
        "df['degree_no_na'].hist()\n",
        "plt.xticks(rotation=90)\n",
        "plt.xlabel('Level of Education')\n",
        "plt.ylabel('Count')\n",
        "plt.title('Level of Education Distribution')\n",
        "plt.grid(False)"
      ],
      "metadata": {
        "colab": {
          "base_uri": "https://localhost:8080/",
          "height": 622
        },
        "id": "lKVUB0Bl7FhX",
        "outputId": "b8a22d27-ae9b-46c4-89c1-e486b042c734"
      },
      "execution_count": 70,
      "outputs": [
        {
          "output_type": "display_data",
          "data": {
            "text/plain": [
              "<Figure size 640x480 with 1 Axes>"
            ],
            "image/png": "[encoded data removed]"
          },
          "metadata": {}
        }
      ]
    },
    {
      "cell_type": "code",
      "source": [
        "# Percieved status histogram\n",
        "\n",
        "df['class_no_na'].hist()\n",
        "plt.xlabel('Class')\n",
        "plt.ylabel('Count')\n",
        "plt.title('Class Distribution - self reported')\n",
        "plt.grid(False)"
      ],
      "metadata": {
        "colab": {
          "base_uri": "https://localhost:8080/",
          "height": 472
        },
        "id": "DAhBBDOJ7apj",
        "outputId": "172f6be0-139e-4bdd-d8b2-aeca3602363d"
      },
      "execution_count": 71,
      "outputs": [
        {
          "output_type": "display_data",
          "data": {
            "text/plain": [
              "<Figure size 640x480 with 1 Axes>"
            ],
            "image/png": "[encoded data removed]"
          },
          "metadata": {}
        }
      ]
    },
    {
      "cell_type": "code",
      "source": [],
      "metadata": {
        "id": "4NsHq_0f_09O"
      },
      "execution_count": null,
      "outputs": []
    },
    {
      "cell_type": "code",
      "source": [
        "# Box plot of education level vs perceived status\n",
        "\n",
        "sns.boxplot(data=df, x='degree_no_na', y='prestige_no_na')\n",
        "plt.xlabel('Level of Education')\n",
        "plt.xticks(rotation=90)\n",
        "plt.ylabel('Prestige')\n",
        "plt.title('Percieved Prestige based on Level of Education')"
      ],
      "metadata": {
        "colab": {
          "base_uri": "https://localhost:8080/",
          "height": 639
        },
        "id": "LU-eVxcG9Wc3",
        "outputId": "834bcfa3-f19a-4c00-9dfe-8d893bf9750a"
      },
      "execution_count": 79,
      "outputs": [
        {
          "output_type": "execute_result",
          "data": {
            "text/plain": [
              "Text(0.5, 1.0, 'Percieved Prestige based on Level of Education')"
            ]
          },
          "metadata": {},
          "execution_count": 79
        },
        {
          "output_type": "display_data",
          "data": {
            "text/plain": [
              "<Figure size 640x480 with 1 Axes>"
            ],
            "image/png": "[encoded data removed]"
          },
          "metadata": {}
        }
      ]
    }
  ]
}