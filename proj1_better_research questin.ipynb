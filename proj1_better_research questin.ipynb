{
 "cells": [
  {
   "cell_type": "code",
   "execution_count": 26,
   "metadata": {},
   "outputs": [
    {
     "data": {
      "text/html": [
       "<div>\n",
       "<style scoped>\n",
       "    .dataframe tbody tr th:only-of-type {\n",
       "        vertical-align: middle;\n",
       "    }\n",
       "\n",
       "    .dataframe tbody tr th {\n",
       "        vertical-align: top;\n",
       "    }\n",
       "\n",
       "    .dataframe thead th {\n",
       "        text-align: right;\n",
       "    }\n",
       "</style>\n",
       "<table border=\"1\" class=\"dataframe\">\n",
       "  <thead>\n",
       "    <tr style=\"text-align: right;\">\n",
       "      <th></th>\n",
       "      <th>degree</th>\n",
       "      <th>class</th>\n",
       "      <th>prestige</th>\n",
       "    </tr>\n",
       "  </thead>\n",
       "  <tbody>\n",
       "    <tr>\n",
       "      <th>count</th>\n",
       "      <td>72230</td>\n",
       "      <td>68894</td>\n",
       "      <td>24303</td>\n",
       "    </tr>\n",
       "    <tr>\n",
       "      <th>unique</th>\n",
       "      <td>6</td>\n",
       "      <td>6</td>\n",
       "      <td>63</td>\n",
       "    </tr>\n",
       "    <tr>\n",
       "      <th>top</th>\n",
       "      <td>high school</td>\n",
       "      <td>middle class</td>\n",
       "      <td>50.0</td>\n",
       "    </tr>\n",
       "    <tr>\n",
       "      <th>freq</th>\n",
       "      <td>36446</td>\n",
       "      <td>31014</td>\n",
       "      <td>1913</td>\n",
       "    </tr>\n",
       "  </tbody>\n",
       "</table>\n",
       "</div>"
      ],
      "text/plain": [
       "             degree         class prestige\n",
       "count         72230         68894    24303\n",
       "unique            6             6       63\n",
       "top     high school  middle class     50.0\n",
       "freq          36446         31014     1913"
      ]
     },
     "execution_count": 26,
     "metadata": {},
     "output_type": "execute_result"
    }
   ],
   "source": [
    "\n",
    "# is there a corelation between degree obtained (the response variable) and ( the explanatory variables) prestige level and percieved self status.\n",
    "# density plot graph\n",
    "# can make a box plots of perceived status(y) and education level(x)\n",
    "#can see if avrage prestige staus in certain education levels\n",
    "\n",
    "import pandas as pd\n",
    "var_list = ['degree', 'class', 'prestige']# List of variables to save\n",
    "output_file = 'raw_gss_data2.csv' # Name of the file to save the data to\n",
    "#\n",
    "modes = ['w','a'] # Has write mode and append mode\n",
    "phase = 0 # Starts in write mode; after one iteration of loop, switches to append mode\n",
    "#\n",
    "for k in range(37): # r each chunk of the data\n",
    "    url = 'https://github.com/DS3001/gss_zip/raw/main/gss_' + str(1+k) + '.csv' # Create url to the chunk to be processed\n",
    "   # print(url) # Check the url is correct\n",
    "    df = pd.read_csv(url,low_memory=False) # Download this chunk of data\n",
    "   # print(df.head()) # Visually inspect the first few rows\n",
    "    df.loc[:,var_list].to_csv(output_file, # specifies target file to save the chunk to\n",
    "                              mode=modes[phase], # control write versus append\n",
    "                              header=var_list, # variable names\n",
    "                              index=False) # no row index saved\n",
    "    phase = 1 # Switch from write mode to append mode\n",
    "    k =+ 1\n",
    "df = pd.read_csv('raw_gss_data2.csv')\n",
    "df.describe()\n"
   ]
  },
  {
   "cell_type": "code",
   "execution_count": null,
   "metadata": {},
   "outputs": [],
   "source": [
    "# Check list of the unique values occuring for \"educ\" variable\n",
    "unique_degree= df['degree'].unique() #\n",
    "print(unique_degree)\n",
    "print(df['degree'].value_counts())\n",
    "missing_values = df['degree'].isnull().sum() #check missing values\n",
    "print(\"Number of missing values \", missing_values) # 196\n",
    "df['degree'].describe()"
   ]
  },
  {
   "cell_type": "code",
   "execution_count": null,
   "metadata": {},
   "outputs": [],
   "source": [
    "import numpy as np \n",
    "\n",
    "df['degree_no_na'] = df['degree']\n",
    "df= df[-df['degree_no_na'].isna()]\n",
    "#df = df[-df['class_no_na'].isna()]\n",
    "\n",
    "#df['degree_no_na'] = df['degree'].replace('Unknown', np.nan) # get rid of prestige variable (same as with educ but differnet way)\n",
    "#df['degree_no_na']=df['degree'].replace(np.nan, 'Unknown')\n",
    "#df['degree'] = df['degree'].replace(np.nan, 'Unknown')  # update the 'fear' column\n",
    "#degree_no_na = \n",
    "#unique_degree= df['degree'].unique()\n",
    "#print(df['degree_no_na'])\n",
    "#print(df['degree_no_na'].value_counts())\n",
    "print(df['degree_no_na'].value_counts())\n",
    "df['degree_no_na'].describe()\n"
   ]
  },
  {
   "cell_type": "code",
   "execution_count": null,
   "metadata": {},
   "outputs": [],
   "source": [
    "# Check unique values and count of 'prestige' variable\n",
    "unique_prestige = df['prestige'].unique()\n",
    "print(unique_prestige)\n",
    "print(df['prestige'].value_counts())\n",
    "\n",
    "# Check the number of missing values in 'prestige'\n",
    "missing_values_prestige = df['prestige'].isnull().sum()\n",
    "print(\"Number of missing values in prestige: \", missing_values_prestige)\n",
    "\n"
   ]
  },
  {
   "cell_type": "code",
   "execution_count": null,
   "metadata": {},
   "outputs": [],
   "source": [
    "# Replace missing values with 'Unknown'\n",
    "\n",
    "df['prestige_no_na'] = df['prestige'].replace('prestige', np.nan) # get rid of prestige variable (same as with educ but differnet way)\n",
    "df= df[-df['prestige_no_na'].isna()]\n",
    "#df['prestige_no_na'] = df['prestige'].replace(np.nan, 'other')\n",
    "#df['prestige'] = df['prestige'].replace(np.nan, 'other')\n",
    "\n",
    "# Check unique values and count of 'prestige' after replacement\n",
    "unique_prestige = df['prestige_no_na'].unique()\n",
    "print(unique_prestige)\n",
    "print(df['prestige_no_na'].value_counts())\n"
   ]
  },
  {
   "cell_type": "code",
   "execution_count": null,
   "metadata": {},
   "outputs": [],
   "source": [
    "print(df['prestige_no_na'].describe())\n"
   ]
  },
  {
   "cell_type": "code",
   "execution_count": null,
   "metadata": {},
   "outputs": [],
   "source": [
    "# Check unique values and count of 'class' variable\n",
    "unique_class = df['class'].unique()\n",
    "print(unique_class)\n",
    "print(df['class'].value_counts())\n",
    "\n",
    "# Check the number of missing values in 'class'\n",
    "missing_values_class = df['class'].isnull().sum() # 1513\n",
    "print(\"Number of missing values in class: \", missing_values_class)\n"
   ]
  },
  {
   "cell_type": "code",
   "execution_count": null,
   "metadata": {},
   "outputs": [],
   "source": [
    "\n",
    "# Replace missing values with 'Unknown'\n",
    "#df['class_no_na'] = df['class'].replace(np.nan, 'Unknown')\n",
    "#df['class'] = df['class'].replace(np.nan, 'Unknown')\n",
    "\n",
    "# Check unique values and count of 'class' after replacement\n",
    "\n",
    "df['class_no_na'] = df['class']\n",
    "df = df[-df['class_no_na'].isna()]\n",
    "\n",
    "\n",
    "\n",
    "unique_class = df['class_no_na'].unique()\n",
    "print(unique_class)\n",
    "print(df['class_no_na'].value_counts())\n",
    "df['class_no_na'].describe()"
   ]
  },
  {
   "cell_type": "markdown",
   "metadata": {},
   "source": [
    "Use the no_na versions of the variables when doing eda and visualization."
   ]
  },
  {
   "cell_type": "code",
   "execution_count": null,
   "metadata": {},
   "outputs": [],
   "source": []
  }
 ],
 "metadata": {
  "kernelspec": {
   "display_name": "Python 3",
   "language": "python",
   "name": "python3"
  },
  "language_info": {
   "codemirror_mode": {
    "name": "ipython",
    "version": 3
   },
   "file_extension": ".py",
   "mimetype": "text/x-python",
   "name": "python",
   "nbconvert_exporter": "python",
   "pygments_lexer": "ipython3",
   "version": "3.8.8"
  }
 },
 "nbformat": 4,
 "nbformat_minor": 4
}
